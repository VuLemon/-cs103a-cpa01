{
 "cells": [
  {
   "cell_type": "markdown",
   "id": "e9172e89",
   "metadata": {},
   "source": [
    "# CPA01\n",
    "\n",
    "This is a dataset detailing current data on Covid-19 in the United States, including cases(probable and confirmed) as well as death(probable and confirmed).\n",
    "The URL for the set: https://github.com/nytimes/covid-19-data/blob/master/live/us-counties.csv\n",
    "Go to the URL, press RAW to display the raw JSON code. Right click on the page and click \"Save as\" to save the file as a csv file on the user's system\n",
    "From the data, we can find the specific number of cases and death for certain counties and states.\n",
    "For example, I want to find how many cases there are for each county in Massachusetts \n",
    "\n",
    "I also want to find out the total number of cases for each State"
   ]
  },
  {
   "cell_type": "code",
   "execution_count": null,
   "id": "2c77530b",
   "metadata": {},
   "outputs": [],
   "source": [
    "import pandas as pd\n",
    "import matplotlib.pyplot as plt\n",
    "df = pd.read_csv(\"data.csv\")"
   ]
  },
  {
   "cell_type": "code",
   "execution_count": null,
   "id": "ee55acd9",
   "metadata": {},
   "outputs": [],
   "source": [
    "df.describe()"
   ]
  },
  {
   "cell_type": "code",
   "execution_count": null,
   "id": "3f1cbace",
   "metadata": {},
   "outputs": [],
   "source": [
    "print(df.columns)\n",
    "print(df.index)"
   ]
  },
  {
   "cell_type": "code",
   "execution_count": null,
   "id": "78dd54ef",
   "metadata": {},
   "outputs": [],
   "source": [
    "plt.figure(figsize =(20,10))\n",
    "for areas in df:\n",
    "    d1 = df[df['state'] == 'Massachusetts']\n",
    "    plt.bar(d1['county'],d1['confirmed_cases'],label =\"confirmed cases\")\n",
    "d1"
   ]
  },
  {
   "cell_type": "code",
   "execution_count": null,
   "id": "19e1772b",
   "metadata": {},
   "outputs": [],
   "source": [
    "print(d1.columns.tolist())\n",
    "d2 = pd.pivot_table(d1, values = 'cases', index = d1['county'], columns = d1['date'])\n",
    "d2.plot(figsize = (20,10), kind = 'bar')\n"
   ]
  },
  {
   "cell_type": "code",
   "execution_count": null,
   "id": "5c082ee1",
   "metadata": {},
   "outputs": [],
   "source": [
    "d1 = df.groupby(['state'])\n",
    "z = d1['cases'].agg(sum)\n",
    "z"
   ]
  },
  {
   "cell_type": "markdown",
   "id": "c798c3b5",
   "metadata": {},
   "source": [
    "The bar chart gives us a visual representation of each county's cases when compared to each other, which makes it easy to see which one is most affected by the covid-19 pandemic.\n",
    "\n",
    "The groupby feature provides us with a way to quickly add up the total cases for each state, presenting an accurate overview of the dataset"
   ]
  },
  {
   "cell_type": "code",
   "execution_count": null,
   "id": "43c18484",
   "metadata": {},
   "outputs": [],
   "source": []
  }
 ],
 "metadata": {
  "kernelspec": {
   "display_name": "Python 3.8.11 ('base')",
   "language": "python",
   "name": "python3811jvsc74a57bd082e8ba1c03ebfba9bb594c7762c52ca5df9150e39980bf849ccc341bdca68cca"
  },
  "language_info": {
   "codemirror_mode": {
    "name": "ipython",
    "version": 3
   },
   "file_extension": ".py",
   "mimetype": "text/x-python",
   "name": "python",
   "nbconvert_exporter": "python",
   "pygments_lexer": "ipython3",
   "version": "3.8.11"
  }
 },
 "nbformat": 4,
 "nbformat_minor": 5
}
